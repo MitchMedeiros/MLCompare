{
 "cells": [
  {
   "cell_type": "code",
   "execution_count": 16,
   "metadata": {},
   "outputs": [
    {
     "name": "stdout",
     "output_type": "stream",
     "text": [
      "           Name  Location   Cuisine  Rating  Seating Capacity  \\\n",
      "0  Restaurant 0     Rural  Japanese     4.0                38   \n",
      "1  Restaurant 1  Downtown   Mexican     3.2                76   \n",
      "2  Restaurant 2     Rural   Italian     4.7                48   \n",
      "3  Restaurant 3     Rural   Italian     4.4                34   \n",
      "4  Restaurant 4  Downtown  Japanese     4.9                88   \n",
      "\n",
      "   Average Meal Price  Marketing Budget  Social Media Followers  \\\n",
      "0               73.98              2224                   23406   \n",
      "1               28.11              4416                   42741   \n",
      "2               48.29              2796                   37285   \n",
      "3               51.55              1167                   15214   \n",
      "4               75.98              3639                   40171   \n",
      "\n",
      "   Chef Experience Years  Number of Reviews  Avg Review Length  \\\n",
      "0                     13                185         161.924906   \n",
      "1                      8                533         148.759717   \n",
      "2                     18                853          56.849189   \n",
      "3                     13                 82         205.433265   \n",
      "4                      9                 78         241.681584   \n",
      "\n",
      "   Ambience Score  Service Quality Score Parking Availability  \\\n",
      "0             1.3                    7.0                  Yes   \n",
      "1             2.6                    3.4                  Yes   \n",
      "2             5.3                    6.7                   No   \n",
      "3             4.6                    2.8                  Yes   \n",
      "4             8.6                    2.1                   No   \n",
      "\n",
      "   Weekend Reservations  Weekday Reservations     Revenue  \n",
      "0                    13                     4   638945.52  \n",
      "1                    48                     6   490207.83  \n",
      "2                    27                    14   541368.62  \n",
      "3                     9                    17   404556.80  \n",
      "4                    37                    26  1491046.35  \n"
     ]
    }
   ],
   "source": [
    "from pathlib import Path\n",
    "\n",
    "import pandas as pd\n",
    "\n",
    "current_dir = Path().resolve().parent\n",
    "data_dir = current_dir / \"data\" / \"restaurant_data.csv\"\n",
    "\n",
    "df = pd.read_csv(data_dir)\n",
    "\n",
    "print(df.head(5))"
   ]
  }
 ],
 "metadata": {
  "kernelspec": {
   "display_name": "general_ml",
   "language": "python",
   "name": "python3"
  },
  "language_info": {
   "codemirror_mode": {
    "name": "ipython",
    "version": 3
   },
   "file_extension": ".py",
   "mimetype": "text/x-python",
   "name": "python",
   "nbconvert_exporter": "python",
   "pygments_lexer": "ipython3",
   "version": "3.11.3"
  }
 },
 "nbformat": 4,
 "nbformat_minor": 2
}
