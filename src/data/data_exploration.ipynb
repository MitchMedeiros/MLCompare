{
 "cells": [
  {
   "cell_type": "code",
   "execution_count": 1,
   "metadata": {},
   "outputs": [
    {
     "ename": "TypeError",
     "evalue": "type 'Series' is not subscriptable",
     "output_type": "error",
     "traceback": [
      "\u001b[0;31m---------------------------------------------------------------------------\u001b[0m",
      "\u001b[0;31mTypeError\u001b[0m                                 Traceback (most recent call last)",
      "Cell \u001b[0;32mIn[1], line 6\u001b[0m\n\u001b[1;32m      2\u001b[0m \u001b[38;5;28;01mimport\u001b[39;00m \u001b[38;5;21;01mpickle\u001b[39;00m\n\u001b[1;32m      4\u001b[0m \u001b[38;5;28;01mimport\u001b[39;00m \u001b[38;5;21;01mpandas\u001b[39;00m \u001b[38;5;28;01mas\u001b[39;00m \u001b[38;5;21;01mpd\u001b[39;00m\n\u001b[0;32m----> 6\u001b[0m \u001b[38;5;28;01mimport\u001b[39;00m \u001b[38;5;21;01mdata_processing\u001b[39;00m\n\u001b[1;32m      8\u001b[0m current_dir \u001b[38;5;241m=\u001b[39m Path()\u001b[38;5;241m.\u001b[39mresolve()\u001b[38;5;241m.\u001b[39mparent\n\u001b[1;32m      9\u001b[0m raw_data_dir \u001b[38;5;241m=\u001b[39m \u001b[38;5;124m\"\u001b[39m\u001b[38;5;124msaved_data/restaurant_data.csv\u001b[39m\u001b[38;5;124m\"\u001b[39m\n",
      "File \u001b[0;32m~/Code/model_comparison/src/data/data_processing.py:105\u001b[0m\n\u001b[1;32m     98\u001b[0m         logger\u001b[38;5;241m.\u001b[39minfo(\u001b[38;5;124mf\u001b[39m\u001b[38;5;124m\"\u001b[39m\u001b[38;5;124mData successfully cleaned and encoded: \u001b[39m\u001b[38;5;130;01m\\n\u001b[39;00m\u001b[38;5;124m \u001b[39m\u001b[38;5;132;01m{\u001b[39;00mdf\u001b[38;5;241m.\u001b[39mhead(\u001b[38;5;241m5\u001b[39m)\u001b[38;5;132;01m}\u001b[39;00m\u001b[38;5;124m\"\u001b[39m)\n\u001b[1;32m    100\u001b[0m     \u001b[38;5;28;01mreturn\u001b[39;00m df\n\u001b[1;32m    103\u001b[0m \u001b[38;5;28;01mdef\u001b[39;00m \u001b[38;5;21msplit_and_save_data\u001b[39m(\n\u001b[1;32m    104\u001b[0m     df: pd\u001b[38;5;241m.\u001b[39mDataFrame, target_column: \u001b[38;5;28mstr\u001b[39m, save_directory: Path \u001b[38;5;241m|\u001b[39m \u001b[38;5;28;01mNone\u001b[39;00m \u001b[38;5;241m=\u001b[39m \u001b[38;5;28;01mNone\u001b[39;00m\n\u001b[0;32m--> 105\u001b[0m ) \u001b[38;5;241m-\u001b[39m\u001b[38;5;241m>\u001b[39m \u001b[38;5;28mtuple\u001b[39m[pd\u001b[38;5;241m.\u001b[39mDataFrame, pd\u001b[38;5;241m.\u001b[39mDataFrame, \u001b[43mpd\u001b[49m\u001b[38;5;241;43m.\u001b[39;49m\u001b[43mSeries\u001b[49m\u001b[43m[\u001b[49m\u001b[43mnp\u001b[49m\u001b[38;5;241;43m.\u001b[39;49m\u001b[43mfloat64\u001b[49m\u001b[43m]\u001b[49m, pd\u001b[38;5;241m.\u001b[39mSeries[np\u001b[38;5;241m.\u001b[39mfloat64]]:\n\u001b[1;32m    106\u001b[0m \u001b[38;5;250m    \u001b[39m\u001b[38;5;124;03m\"\"\"Split the data into its features and target, and save to a file for later model training.\"\"\"\u001b[39;00m\n\u001b[1;32m    107\u001b[0m     X \u001b[38;5;241m=\u001b[39m df\u001b[38;5;241m.\u001b[39mdrop([target_column], axis\u001b[38;5;241m=\u001b[39m\u001b[38;5;241m1\u001b[39m)\n",
      "\u001b[0;31mTypeError\u001b[0m: type 'Series' is not subscriptable"
     ]
    }
   ],
   "source": [
    "from pathlib import Path\n",
    "import pickle\n",
    "\n",
    "import pandas as pd\n",
    "\n",
    "import data_processing\n",
    "\n",
    "current_dir = Path().resolve().parent\n",
    "raw_data_dir = \"saved_data/restaurant_data.csv\"\n",
    "prepared_data_dir = \"saved_data/train_test_split.pkl\"\n",
    "\n",
    "with open(prepared_data_dir, \"rb\") as f:\n",
    "    train_test_split = pickle.load(f)\n",
    "\n",
    "raw_df = pd.read_csv(raw_data_dir)\n",
    "\n",
    "encoded_df = data_processing.clean_and_encode_data(\n",
    "    raw_df,\n",
    "    [\"Name\"],\n",
    "    [\"Location\", \"Cuisine\", \"Parking Availability\"],\n",
    ")\n",
    "\n",
    "X_train, X_test, y_train, y_test = data_processing.split_and_save_data(\n",
    "    encoded_df, \"Revenue\"\n",
    ")\n",
    "\n",
    "print(\"Raw Data\")\n",
    "display(raw_df.head(5))\n",
    "print(\"Encoded Data\")\n",
    "display(encoded_df.head(5))\n",
    "print(\"X Train\")\n",
    "display(X_train.head(5))\n",
    "print(\"y Train\")\n",
    "display(y_train.head(5))\n",
    "print(\"X Test\")\n",
    "display(X_test.head(5))\n",
    "print(\"y Test\")\n",
    "display(y_test.head(5))"
   ]
  }
 ],
 "metadata": {
  "kernelspec": {
   "display_name": "general_ml",
   "language": "python",
   "name": "python3"
  },
  "language_info": {
   "codemirror_mode": {
    "name": "ipython",
    "version": 3
   },
   "file_extension": ".py",
   "mimetype": "text/x-python",
   "name": "python",
   "nbconvert_exporter": "python",
   "pygments_lexer": "ipython3",
   "version": "3.11.3"
  }
 },
 "nbformat": 4,
 "nbformat_minor": 2
}
